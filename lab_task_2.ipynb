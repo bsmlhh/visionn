{
  "nbformat": 4,
  "nbformat_minor": 0,
  "metadata": {
    "colab": {
      "provenance": [],
      "include_colab_link": true
    },
    "kernelspec": {
      "name": "python3",
      "display_name": "Python 3"
    },
    "language_info": {
      "name": "python"
    }
  },
  "cells": [
    {
      "cell_type": "markdown",
      "metadata": {
        "id": "view-in-github",
        "colab_type": "text"
      },
      "source": [
        "<a href=\"https://colab.research.google.com/github/bsmlhh/visionn/blob/main/lab_task_2.ipynb\" target=\"_parent\"><img src=\"https://colab.research.google.com/assets/colab-badge.svg\" alt=\"Open In Colab\"/></a>"
      ]
    },
    {
      "cell_type": "code",
      "execution_count": null,
      "metadata": {
        "id": "idXfDyhjEp1Y"
      },
      "outputs": [],
      "source": [
        "from PIL import Image\n",
        "import numpy as np"
      ]
    },
    {
      "cell_type": "code",
      "source": [
        "# Load the image\n",
        "image = Image.open('TEST.jpg').convert('L')"
      ],
      "metadata": {
        "id": "fgidizFvWWNw"
      },
      "execution_count": null,
      "outputs": []
    },
    {
      "cell_type": "code",
      "source": [
        "# Convert the image to a NumPy array\n",
        "image_array = np.array(image)"
      ],
      "metadata": {
        "id": "iO7-PuILWXrY"
      },
      "execution_count": null,
      "outputs": []
    },
    {
      "cell_type": "code",
      "source": [
        "filter = np.array([[1, 1], [1, 1]])"
      ],
      "metadata": {
        "id": "TyohbxCKWZW0"
      },
      "execution_count": null,
      "outputs": []
    },
    {
      "cell_type": "code",
      "source": [
        "# Apply the filter to the image\n",
        "Conv = np.zeros_like(image_array)\n",
        "for i in range(1, image_array.shape[0]-1):\n",
        "    for j in range(1, image_array.shape[1]-1):\n",
        "        Conv[i,j] = np.sum(image_array[i-1:i+1, j-1:j+1] * filter)\n",
        "\n",
        "\n",
        "print(Conv)"
      ],
      "metadata": {
        "colab": {
          "base_uri": "https://localhost:8080/"
        },
        "id": "qCCUk9D9FKVs",
        "outputId": "a5e3046a-a96d-4046-dfcc-4591bd440a09"
      },
      "execution_count": null,
      "outputs": [
        {
          "output_type": "stream",
          "name": "stdout",
          "text": [
            "[[  0   0   0 ...   0   0   0]\n",
            " [  0  56  50 ... 140 144   0]\n",
            " [  0  61  44 ... 140 144   0]\n",
            " ...\n",
            " [  0   6 254 ...  21  27   0]\n",
            " [  0   0 249 ...  21  26   0]\n",
            " [  0   0   0 ...   0   0   0]]\n"
          ]
        }
      ]
    },
    {
      "cell_type": "code",
      "source": [],
      "metadata": {
        "id": "UTYgXWiWFozj"
      },
      "execution_count": null,
      "outputs": []
    }
  ]
}